{
  "nbformat": 4,
  "nbformat_minor": 0,
  "metadata": {
    "colab": {
      "provenance": [],
      "authorship_tag": "ABX9TyPs1Qn9FDdkP2KsC4U7ZQds",
      "include_colab_link": true
    },
    "kernelspec": {
      "name": "python3",
      "display_name": "Python 3"
    },
    "language_info": {
      "name": "python"
    }
  },
  "cells": [
    {
      "cell_type": "markdown",
      "metadata": {
        "id": "view-in-github",
        "colab_type": "text"
      },
      "source": [
        "<a href=\"https://colab.research.google.com/github/Mouneeshsaravanan/BHARATH-INTERN-/blob/main/Prediction_of_dog_and_cat_Bharath_Intern.ipynb\" target=\"_parent\"><img src=\"https://colab.research.google.com/assets/colab-badge.svg\" alt=\"Open In Colab\"/></a>"
      ]
    },
    {
      "cell_type": "code",
      "source": [],
      "metadata": {
        "id": "ho54djnjJ92x"
      },
      "execution_count": null,
      "outputs": []
    },
    {
      "cell_type": "code",
      "source": [
        "from google.colab import drive\n",
        "drive.mount('/content/gdrive')\n"
      ],
      "metadata": {
        "colab": {
          "base_uri": "https://localhost:8080/"
        },
        "id": "EiIu0BidIp8R",
        "outputId": "e493b4c4-be20-46d6-9d09-0cd0e77070bc"
      },
      "execution_count": 4,
      "outputs": [
        {
          "output_type": "stream",
          "name": "stdout",
          "text": [
            "Drive already mounted at /content/gdrive; to attempt to forcibly remount, call drive.mount(\"/content/gdrive\", force_remount=True).\n"
          ]
        }
      ]
    },
    {
      "cell_type": "markdown",
      "source": [],
      "metadata": {
        "id": "ntODDSAn2aMv"
      }
    },
    {
      "cell_type": "code",
      "source": [
        "# Step 1: Mount Google Drive\n",
        "from google.colab import drive\n",
        "drive.mount('/content/gdrive')\n",
        "\n",
        "# Step 2: Organize Project Structure\n",
        "!ls '/content/gdrive/MyDrive/project ds'\n",
        "\n",
        "# Step 3: Load and Preprocess Data\n",
        "from tensorflow.keras.preprocessing.image import ImageDataGenerator\n",
        "\n",
        "# Define paths to your dataset\n",
        "dataset_path = '/content/gdrive/MyDrive/project ds'\n",
        "\n",
        "# Image dimensions and batch size\n",
        "img_width, img_height = 150, 150\n",
        "batch_size = 32\n",
        "\n",
        "# Use data augmentation for training\n",
        "train_datagen = ImageDataGenerator(\n",
        "    rescale=1.0/255.0,\n",
        "    shear_range=0.2,\n",
        "    zoom_range=0.2,\n",
        "    horizontal_flip=True\n",
        ")\n",
        "\n",
        "# Load and preprocess the training data\n",
        "train_generator = train_datagen.flow_from_directory(\n",
        "    f'{dataset_path}/train',\n",
        "    target_size=(img_width, img_height),\n",
        "    batch_size=batch_size,\n",
        "    class_mode='binary'\n",
        ")\n",
        "\n",
        "# Load and preprocess the testing data\n",
        "test_datagen = ImageDataGenerator(rescale=1.0/255.0)\n",
        "\n",
        "test_generator = test_datagen.flow_from_directory(\n",
        "    f'{dataset_path}/test',\n",
        "    target_size=(img_width, img_height),\n",
        "    batch_size=batch_size,\n",
        "    class_mode='binary'\n",
        ")\n",
        "\n",
        "# Step 4: Build and Train Your Model\n",
        "from tensorflow.keras.models import Sequential\n",
        "from tensorflow.keras.layers import Dense, Flatten\n",
        "\n",
        "# Build the model\n",
        "model = Sequential([\n",
        "    Flatten(input_shape=(img_width, img_height, 3)),  # Adjust input shape based on your data\n",
        "    Dense(64, activation='relu'),\n",
        "    Dense(1, activation='sigmoid')\n",
        "])\n",
        "\n",
        "# Compile the model\n",
        "model.compile(optimizer='adam', loss='binary_crossentropy', metrics=['accuracy'])\n",
        "\n",
        "# Train the model\n",
        "model.fit(train_generator, epochs=10, validation_data=test_generator)\n",
        "\n",
        "# Step 5: Save Your Model\n",
        "model.save('/content/gdrive/MyDrive/project ds/my_model.h5')\n",
        "\n"
      ],
      "metadata": {
        "colab": {
          "base_uri": "https://localhost:8080/"
        },
        "id": "5UplMkonIUmO",
        "outputId": "a559e533-d24a-4769-c840-6bec0e7e5666"
      },
      "execution_count": 3,
      "outputs": [
        {
          "output_type": "stream",
          "name": "stdout",
          "text": [
            "Drive already mounted at /content/gdrive; to attempt to forcibly remount, call drive.mount(\"/content/gdrive\", force_remount=True).\n",
            "my_model.h5  test  train\n",
            "Found 441 images belonging to 2 classes.\n",
            "Found 100 images belonging to 2 classes.\n",
            "Epoch 1/10\n",
            "14/14 [==============================] - 11s 729ms/step - loss: 6.5256 - accuracy: 0.8050 - val_loss: 8.4462 - val_accuracy: 0.5000\n",
            "Epoch 2/10\n",
            "14/14 [==============================] - 8s 548ms/step - loss: 1.6634 - accuracy: 0.8798 - val_loss: 4.6328 - val_accuracy: 0.5000\n",
            "Epoch 3/10\n",
            "14/14 [==============================] - 9s 643ms/step - loss: 1.0996 - accuracy: 0.8821 - val_loss: 8.4133 - val_accuracy: 0.5000\n",
            "Epoch 4/10\n",
            "14/14 [==============================] - 9s 645ms/step - loss: 1.0475 - accuracy: 0.8866 - val_loss: 1.1223 - val_accuracy: 0.5400\n",
            "Epoch 5/10\n",
            "14/14 [==============================] - 8s 552ms/step - loss: 0.5887 - accuracy: 0.8685 - val_loss: 6.5244 - val_accuracy: 0.5000\n",
            "Epoch 6/10\n",
            "14/14 [==============================] - 9s 646ms/step - loss: 0.5430 - accuracy: 0.8889 - val_loss: 4.6456 - val_accuracy: 0.5000\n",
            "Epoch 7/10\n",
            "14/14 [==============================] - 8s 606ms/step - loss: 0.6892 - accuracy: 0.8730 - val_loss: 12.7566 - val_accuracy: 0.5000\n",
            "Epoch 8/10\n",
            "14/14 [==============================] - 8s 553ms/step - loss: 1.1725 - accuracy: 0.8821 - val_loss: 6.4809 - val_accuracy: 0.5000\n",
            "Epoch 9/10\n",
            "14/14 [==============================] - 8s 568ms/step - loss: 0.8823 - accuracy: 0.8889 - val_loss: 1.0349 - val_accuracy: 0.5400\n",
            "Epoch 10/10\n",
            "14/14 [==============================] - 9s 643ms/step - loss: 1.2234 - accuracy: 0.8549 - val_loss: 3.9091 - val_accuracy: 0.5000\n"
          ]
        },
        {
          "output_type": "stream",
          "name": "stderr",
          "text": [
            "/usr/local/lib/python3.10/dist-packages/keras/src/engine/training.py:3103: UserWarning: You are saving your model as an HDF5 file via `model.save()`. This file format is considered legacy. We recommend using instead the native Keras format, e.g. `model.save('my_model.keras')`.\n",
            "  saving_api.save_model(\n"
          ]
        }
      ]
    },
    {
      "cell_type": "code",
      "source": [],
      "metadata": {
        "id": "fc518SGNUJZz"
      },
      "execution_count": null,
      "outputs": []
    },
    {
      "cell_type": "code",
      "source": [
        "import tensorflow as tf\n",
        "from tensorflow.keras.preprocessing import image\n",
        "from tensorflow.keras.applications.inception_v3 import preprocess_input, decode_predictions\n",
        "import numpy as np\n",
        "\n",
        "# Step 1: Mount Google Drive (if not already mounted)\n",
        "from google.colab import drive\n",
        "drive.mount('/content/gdrive')\n",
        "\n",
        "# Step 2: Load the trained model\n",
        "model_path = '/content/gdrive/MyDrive/project ds/my_model.h5'\n",
        "loaded_model = tf.keras.models.load_model(model_path)\n",
        "\n",
        "# Step 3: Load and preprocess the external image\n",
        "external_image_path = '/content/pexels-pixabay-45201.jpg'  # Replace with the actual filename\n",
        "external_img = image.load_img(external_image_path, target_size=(150, 150))\n",
        "external_img_array = image.img_to_array(external_img)\n",
        "external_img_array = np.expand_dims(external_img_array, axis=0)\n",
        "external_img_array = preprocess_input(external_img_array)\n",
        "\n",
        "# Step 4: Make predictions\n",
        "predictions = loaded_model.predict(external_img_array)\n",
        "\n",
        "# Step 5: Interpret predictions\n",
        "if predictions[0][0] > 0.5:\n",
        "    print(\"Prediction: Dog\")\n",
        "else:\n",
        "    print(\"Prediction: Cat\")\n"
      ],
      "metadata": {
        "colab": {
          "base_uri": "https://localhost:8080/"
        },
        "id": "BRgHbLCTZrAg",
        "outputId": "8badf459-e37d-4747-fbb5-fdb147c9bc56"
      },
      "execution_count": 1,
      "outputs": [
        {
          "output_type": "stream",
          "name": "stdout",
          "text": [
            "Drive already mounted at /content/gdrive; to attempt to forcibly remount, call drive.mount(\"/content/gdrive\", force_remount=True).\n",
            "1/1 [==============================] - 0s 161ms/step\n",
            "Prediction: Cat\n"
          ]
        }
      ]
    },
    {
      "cell_type": "code",
      "source": [
        "import tensorflow as tf\n",
        "from tensorflow.keras.preprocessing import image\n",
        "from tensorflow.keras.applications.inception_v3 import preprocess_input, decode_predictions\n",
        "import numpy as np\n",
        "\n",
        "# Step 1: Mount Google Drive (if not already mounted)\n",
        "from google.colab import drive\n",
        "drive.mount('/content/gdrive')\n",
        "\n",
        "# Step 2: Load the trained model\n",
        "model_path = '/content/gdrive/MyDrive/project ds/my_model.h5'\n",
        "loaded_model = tf.keras.models.load_model(model_path)\n",
        "\n",
        "# Step 3: Load and preprocess the external image\n",
        "external_image_path = '/content/isolated-happy-smiling-dog-white-background-portrait-4_1562-693.jpg'  # Replace with the actual filename\n",
        "external_img = image.load_img(external_image_path, target_size=(150, 150))\n",
        "external_img_array = image.img_to_array(external_img)\n",
        "external_img_array = np.expand_dims(external_img_array, axis=0)\n",
        "external_img_array = preprocess_input(external_img_array)\n",
        "\n",
        "# Step 4: Make predictions\n",
        "predictions = loaded_model.predict(external_img_array)\n",
        "\n",
        "# Step 5: Interpret predictions\n",
        "if predictions[0][0] > 0.5:\n",
        "    print(\"Prediction: Dog\")\n",
        "else:\n",
        "    print(\"Prediction: Cat\")\n"
      ],
      "metadata": {
        "colab": {
          "base_uri": "https://localhost:8080/"
        },
        "id": "xYUfg5PC0nAh",
        "outputId": "686becbf-a31f-4b34-ce59-979e26282c7b"
      },
      "execution_count": 2,
      "outputs": [
        {
          "output_type": "stream",
          "name": "stdout",
          "text": [
            "Drive already mounted at /content/gdrive; to attempt to forcibly remount, call drive.mount(\"/content/gdrive\", force_remount=True).\n",
            "1/1 [==============================] - 0s 53ms/step\n",
            "Prediction: Dog\n"
          ]
        }
      ]
    }
  ]
}
